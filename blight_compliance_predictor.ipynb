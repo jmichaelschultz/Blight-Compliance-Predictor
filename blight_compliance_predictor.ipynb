{
 "cells": [
  {
   "cell_type": "code",
   "execution_count": 127,
   "id": "ebe553ca",
   "metadata": {},
   "outputs": [
    {
     "name": "stdout",
     "output_type": "stream",
     "text": [
      "C:\\Users\\jmich\\OneDrive\\Repository\\Databases\n"
     ]
    }
   ],
   "source": [
    "cd \"C:\\Users\\jmich\\OneDrive\\Repository\\Databases\""
   ]
  },
  {
   "cell_type": "markdown",
   "id": "f3b0ab21",
   "metadata": {},
   "source": [
    "### Blight Analysis \n",
    "\n",
    "##### Analysis Objective: \n",
    "\n",
    "The Michigan Data Science Team (MDST) and the Michigan Student Symposium for Interdisciplinary Statistical Sciences (MSSISS) have partnered with the City of Detroit to help solve one of the most pressing problems facing Detroit - blight. Blight violations are issued by the city to individuals who allow their properties to remain in a deteriorated condition. Every year, the city of Detroit issues millions of dollars in fines to residents and every year, many of these fines remain unpaid. Enforcing unpaid blight fines is a costly and tedious process, so the city wants to know: how can we increase blight ticket compliance?\n",
    "\n",
    "The first step in answering this question is understanding when and why a resident might fail to comply with a blight ticket. This is where predictive modeling comes in. In this notebook I will attempt to predict whether a given blight ticket will be paid on time.\n",
    "\n",
    "All data for in this notebook has been provided to us through the Detroit Open Data Portal."
   ]
  },
  {
   "cell_type": "code",
   "execution_count": 150,
   "id": "8b388ae3",
   "metadata": {},
   "outputs": [],
   "source": [
    "import pandas as pd \n",
    "import numpy as np\n",
    "import matplotlib.pyplot as plt\n",
    "%matplotlib inline\n",
    "import seaborn as sns\n",
    "from sklearn.ensemble import GradientBoostingClassifier\n",
    "from sklearn.svm import SVC\n",
    "from sklearn.preprocessing import MinMaxScaler\n",
    "from sklearn.model_selection import train_test_split\n",
    "from sklearn.metrics import roc_curve, auc , roc_auc_score,accuracy_score, confusion_matrix, classification_report\n",
    "from sklearn.ensemble import GradientBoostingClassifier\n",
    "from sklearn.model_selection import GridSearchCV\n",
    "from sklearn import preprocessing"
   ]
  },
  {
   "cell_type": "code",
   "execution_count": 129,
   "id": "b6a3a68c",
   "metadata": {},
   "outputs": [
    {
     "name": "stderr",
     "output_type": "stream",
     "text": [
      "C:\\ProgramData\\Anaconda3\\lib\\site-packages\\IPython\\core\\interactiveshell.py:3444: DtypeWarning: Columns (11,12,31) have mixed types.Specify dtype option on import or set low_memory=False.\n",
      "  exec(code_obj, self.user_global_ns, self.user_ns)\n"
     ]
    }
   ],
   "source": [
    "#import the data \n",
    "data = pd.read_csv('blight_train.csv',encoding = \"ISO-8859-1\")\n",
    "address = pd.read_csv('addresses.csv')\n",
    "latlons = pd.read_csv('latlons.csv')"
   ]
  },
  {
   "cell_type": "markdown",
   "id": "8080b873",
   "metadata": {},
   "source": [
    "#### Data Cleanup"
   ]
  },
  {
   "cell_type": "code",
   "execution_count": 130,
   "id": "65dd3068",
   "metadata": {},
   "outputs": [
    {
     "name": "stdout",
     "output_type": "stream",
     "text": [
      "   ticket_id                      address\n",
      "0      22056       2900 tyler, Detroit MI\n",
      "1      27586     4311 central, Detroit MI\n",
      "2      22062  1449 longfellow, Detroit MI\n",
      "3      22084  1441 longfellow, Detroit MI\n",
      "4      22093   2449 churchill, Detroit MI \n",
      "\n",
      "                                   address        lat        lon\n",
      "0  4300 rosa parks blvd, Detroit MI 48208  42.346169 -83.079962\n",
      "1                14512 sussex, Detroit MI  42.394657 -83.194265\n",
      "2                3456 garland, Detroit MI  42.373779 -82.986228\n",
      "3                5787 wayburn, Detroit MI  42.403342 -82.957805\n",
      "4              5766 haverhill, Detroit MI  42.407255 -82.946295 \n",
      "\n",
      "\n",
      "                      address  ticket_id        lat        lon\n",
      "0  -11064 gratiot, Detroit MI     328722  42.406935 -82.995599\n",
      "1  -11871 wilfred, Detroit MI     350971  42.411288 -82.993674\n",
      "2   -15126 harper, Detroit MI     344821  42.406402 -82.957525\n",
      "3       0 10th st, Detroit MI      24928  42.325689 -83.064330\n",
      "4       0 10th st, Detroit MI      71887  42.325689 -83.064330 \n",
      "\n",
      "\n",
      "<class 'pandas.core.frame.DataFrame'>\n",
      "RangeIndex: 311299 entries, 0 to 311298\n",
      "Data columns (total 4 columns):\n",
      " #   Column     Non-Null Count   Dtype  \n",
      "---  ------     --------------   -----  \n",
      " 0   address    311299 non-null  object \n",
      " 1   ticket_id  311299 non-null  int64  \n",
      " 2   lat        311299 non-null  float64\n",
      " 3   lon        311299 non-null  float64\n",
      "dtypes: float64(2), int64(1), object(1)\n",
      "memory usage: 9.5+ MB\n",
      "None\n"
     ]
    }
   ],
   "source": [
    "# Join address.csv to latlon.cvs to add latitude and longitute to each address, and ticket # \n",
    "print(address.head(), '\\n\\n' , latlons.head(), '\\n\\n')\n",
    "\n",
    "full_loc = address.set_index('address').join(latlons.set_index('address'), how='left').dropna().reset_index(drop=False)\n",
    "\n",
    "print(full_loc.head(),'\\n\\n')\n",
    "print(full_loc.info())"
   ]
  },
  {
   "cell_type": "code",
   "execution_count": 131,
   "id": "9ba2122f",
   "metadata": {},
   "outputs": [
    {
     "name": "stdout",
     "output_type": "stream",
     "text": [
      "shape of dataset (#row, #columns) (250306, 34)\n",
      "features: Index(['ticket_id', 'agency_name', 'inspector_name', 'violator_name',\n",
      "       'violation_street_number', 'violation_street_name',\n",
      "       'violation_zip_code', 'mailing_address_str_number',\n",
      "       'mailing_address_str_name', 'city', 'state', 'zip_code',\n",
      "       'non_us_str_code', 'country', 'ticket_issued_date', 'hearing_date',\n",
      "       'violation_code', 'violation_description', 'disposition', 'fine_amount',\n",
      "       'admin_fee', 'state_fee', 'late_fee', 'discount_amount',\n",
      "       'clean_up_cost', 'judgment_amount', 'payment_amount', 'balance_due',\n",
      "       'payment_date', 'payment_status', 'collection_status',\n",
      "       'grafitti_status', 'compliance_detail', 'compliance'],\n",
      "      dtype='object')\n"
     ]
    },
    {
     "data": {
      "text/html": [
       "<div>\n",
       "<style scoped>\n",
       "    .dataframe tbody tr th:only-of-type {\n",
       "        vertical-align: middle;\n",
       "    }\n",
       "\n",
       "    .dataframe tbody tr th {\n",
       "        vertical-align: top;\n",
       "    }\n",
       "\n",
       "    .dataframe thead th {\n",
       "        text-align: right;\n",
       "    }\n",
       "</style>\n",
       "<table border=\"1\" class=\"dataframe\">\n",
       "  <thead>\n",
       "    <tr style=\"text-align: right;\">\n",
       "      <th></th>\n",
       "      <th>ticket_id</th>\n",
       "      <th>agency_name</th>\n",
       "      <th>inspector_name</th>\n",
       "      <th>violator_name</th>\n",
       "      <th>violation_street_number</th>\n",
       "      <th>violation_street_name</th>\n",
       "      <th>violation_zip_code</th>\n",
       "      <th>mailing_address_str_number</th>\n",
       "      <th>mailing_address_str_name</th>\n",
       "      <th>city</th>\n",
       "      <th>...</th>\n",
       "      <th>clean_up_cost</th>\n",
       "      <th>judgment_amount</th>\n",
       "      <th>payment_amount</th>\n",
       "      <th>balance_due</th>\n",
       "      <th>payment_date</th>\n",
       "      <th>payment_status</th>\n",
       "      <th>collection_status</th>\n",
       "      <th>grafitti_status</th>\n",
       "      <th>compliance_detail</th>\n",
       "      <th>compliance</th>\n",
       "    </tr>\n",
       "  </thead>\n",
       "  <tbody>\n",
       "    <tr>\n",
       "      <th>0</th>\n",
       "      <td>22056</td>\n",
       "      <td>Buildings, Safety Engineering &amp; Env Department</td>\n",
       "      <td>Sims, Martinzie</td>\n",
       "      <td>INVESTMENT INC., MIDWEST MORTGAGE</td>\n",
       "      <td>2900.0</td>\n",
       "      <td>TYLER</td>\n",
       "      <td>NaN</td>\n",
       "      <td>3.0</td>\n",
       "      <td>S. WICKER</td>\n",
       "      <td>CHICAGO</td>\n",
       "      <td>...</td>\n",
       "      <td>0.0</td>\n",
       "      <td>305.0</td>\n",
       "      <td>0.0</td>\n",
       "      <td>305.0</td>\n",
       "      <td>NaN</td>\n",
       "      <td>NO PAYMENT APPLIED</td>\n",
       "      <td>NaN</td>\n",
       "      <td>NaN</td>\n",
       "      <td>non-compliant by no payment</td>\n",
       "      <td>0.0</td>\n",
       "    </tr>\n",
       "    <tr>\n",
       "      <th>1</th>\n",
       "      <td>27586</td>\n",
       "      <td>Buildings, Safety Engineering &amp; Env Department</td>\n",
       "      <td>Williams, Darrin</td>\n",
       "      <td>Michigan, Covenant House</td>\n",
       "      <td>4311.0</td>\n",
       "      <td>CENTRAL</td>\n",
       "      <td>NaN</td>\n",
       "      <td>2959.0</td>\n",
       "      <td>Martin Luther King</td>\n",
       "      <td>Detroit</td>\n",
       "      <td>...</td>\n",
       "      <td>0.0</td>\n",
       "      <td>855.0</td>\n",
       "      <td>780.0</td>\n",
       "      <td>75.0</td>\n",
       "      <td>2005-06-02 00:00:00</td>\n",
       "      <td>PAID IN FULL</td>\n",
       "      <td>NaN</td>\n",
       "      <td>NaN</td>\n",
       "      <td>compliant by late payment within 1 month</td>\n",
       "      <td>1.0</td>\n",
       "    </tr>\n",
       "    <tr>\n",
       "      <th>2</th>\n",
       "      <td>22062</td>\n",
       "      <td>Buildings, Safety Engineering &amp; Env Department</td>\n",
       "      <td>Sims, Martinzie</td>\n",
       "      <td>SANDERS, DERRON</td>\n",
       "      <td>1449.0</td>\n",
       "      <td>LONGFELLOW</td>\n",
       "      <td>NaN</td>\n",
       "      <td>23658.0</td>\n",
       "      <td>P.O. BOX</td>\n",
       "      <td>DETROIT</td>\n",
       "      <td>...</td>\n",
       "      <td>0.0</td>\n",
       "      <td>0.0</td>\n",
       "      <td>0.0</td>\n",
       "      <td>0.0</td>\n",
       "      <td>NaN</td>\n",
       "      <td>NO PAYMENT APPLIED</td>\n",
       "      <td>NaN</td>\n",
       "      <td>NaN</td>\n",
       "      <td>not responsible by disposition</td>\n",
       "      <td>NaN</td>\n",
       "    </tr>\n",
       "    <tr>\n",
       "      <th>3</th>\n",
       "      <td>22084</td>\n",
       "      <td>Buildings, Safety Engineering &amp; Env Department</td>\n",
       "      <td>Sims, Martinzie</td>\n",
       "      <td>MOROSI, MIKE</td>\n",
       "      <td>1441.0</td>\n",
       "      <td>LONGFELLOW</td>\n",
       "      <td>NaN</td>\n",
       "      <td>5.0</td>\n",
       "      <td>ST. CLAIR</td>\n",
       "      <td>DETROIT</td>\n",
       "      <td>...</td>\n",
       "      <td>0.0</td>\n",
       "      <td>0.0</td>\n",
       "      <td>0.0</td>\n",
       "      <td>0.0</td>\n",
       "      <td>NaN</td>\n",
       "      <td>NO PAYMENT APPLIED</td>\n",
       "      <td>NaN</td>\n",
       "      <td>NaN</td>\n",
       "      <td>not responsible by disposition</td>\n",
       "      <td>NaN</td>\n",
       "    </tr>\n",
       "    <tr>\n",
       "      <th>4</th>\n",
       "      <td>22093</td>\n",
       "      <td>Buildings, Safety Engineering &amp; Env Department</td>\n",
       "      <td>Sims, Martinzie</td>\n",
       "      <td>NATHANIEL, NEAL</td>\n",
       "      <td>2449.0</td>\n",
       "      <td>CHURCHILL</td>\n",
       "      <td>NaN</td>\n",
       "      <td>7449.0</td>\n",
       "      <td>CHURCHILL</td>\n",
       "      <td>DETROIT</td>\n",
       "      <td>...</td>\n",
       "      <td>0.0</td>\n",
       "      <td>0.0</td>\n",
       "      <td>0.0</td>\n",
       "      <td>0.0</td>\n",
       "      <td>NaN</td>\n",
       "      <td>NO PAYMENT APPLIED</td>\n",
       "      <td>NaN</td>\n",
       "      <td>NaN</td>\n",
       "      <td>not responsible by disposition</td>\n",
       "      <td>NaN</td>\n",
       "    </tr>\n",
       "  </tbody>\n",
       "</table>\n",
       "<p>5 rows × 34 columns</p>\n",
       "</div>"
      ],
      "text/plain": [
       "   ticket_id                                     agency_name  \\\n",
       "0      22056  Buildings, Safety Engineering & Env Department   \n",
       "1      27586  Buildings, Safety Engineering & Env Department   \n",
       "2      22062  Buildings, Safety Engineering & Env Department   \n",
       "3      22084  Buildings, Safety Engineering & Env Department   \n",
       "4      22093  Buildings, Safety Engineering & Env Department   \n",
       "\n",
       "     inspector_name                      violator_name  \\\n",
       "0   Sims, Martinzie  INVESTMENT INC., MIDWEST MORTGAGE   \n",
       "1  Williams, Darrin           Michigan, Covenant House   \n",
       "2   Sims, Martinzie                    SANDERS, DERRON   \n",
       "3   Sims, Martinzie                       MOROSI, MIKE   \n",
       "4   Sims, Martinzie                    NATHANIEL, NEAL   \n",
       "\n",
       "   violation_street_number violation_street_name  violation_zip_code  \\\n",
       "0                   2900.0                 TYLER                 NaN   \n",
       "1                   4311.0               CENTRAL                 NaN   \n",
       "2                   1449.0            LONGFELLOW                 NaN   \n",
       "3                   1441.0            LONGFELLOW                 NaN   \n",
       "4                   2449.0             CHURCHILL                 NaN   \n",
       "\n",
       "   mailing_address_str_number mailing_address_str_name     city  ...  \\\n",
       "0                         3.0                S. WICKER  CHICAGO  ...   \n",
       "1                      2959.0       Martin Luther King  Detroit  ...   \n",
       "2                     23658.0                 P.O. BOX  DETROIT  ...   \n",
       "3                         5.0                ST. CLAIR  DETROIT  ...   \n",
       "4                      7449.0                CHURCHILL  DETROIT  ...   \n",
       "\n",
       "  clean_up_cost judgment_amount payment_amount balance_due  \\\n",
       "0           0.0           305.0            0.0       305.0   \n",
       "1           0.0           855.0          780.0        75.0   \n",
       "2           0.0             0.0            0.0         0.0   \n",
       "3           0.0             0.0            0.0         0.0   \n",
       "4           0.0             0.0            0.0         0.0   \n",
       "\n",
       "          payment_date      payment_status collection_status grafitti_status  \\\n",
       "0                  NaN  NO PAYMENT APPLIED               NaN             NaN   \n",
       "1  2005-06-02 00:00:00        PAID IN FULL               NaN             NaN   \n",
       "2                  NaN  NO PAYMENT APPLIED               NaN             NaN   \n",
       "3                  NaN  NO PAYMENT APPLIED               NaN             NaN   \n",
       "4                  NaN  NO PAYMENT APPLIED               NaN             NaN   \n",
       "\n",
       "                          compliance_detail  compliance  \n",
       "0               non-compliant by no payment         0.0  \n",
       "1  compliant by late payment within 1 month         1.0  \n",
       "2            not responsible by disposition         NaN  \n",
       "3            not responsible by disposition         NaN  \n",
       "4            not responsible by disposition         NaN  \n",
       "\n",
       "[5 rows x 34 columns]"
      ]
     },
     "execution_count": 131,
     "metadata": {},
     "output_type": "execute_result"
    }
   ],
   "source": [
    "# data\n",
    "print(\"shape of dataset (#row, #columns)\", data.shape) \n",
    "print(\"features:\", data.columns)\n",
    "data.head()"
   ]
  },
  {
   "cell_type": "code",
   "execution_count": 132,
   "id": "9c846cbd",
   "metadata": {},
   "outputs": [],
   "source": [
    "# adding address detials to training and testing set using ticket_id \n",
    "data=pd.merge(data, full_loc, on='ticket_id').set_index('ticket_id')"
   ]
  },
  {
   "cell_type": "code",
   "execution_count": 133,
   "id": "d2e4a4a9",
   "metadata": {},
   "outputs": [
    {
     "name": "stdout",
     "output_type": "stream",
     "text": [
      "<class 'pandas.core.frame.DataFrame'>\n",
      "Int64Index: 250303 entries, 22056 to 325561\n",
      "Data columns (total 36 columns):\n",
      " #   Column                      Non-Null Count   Dtype  \n",
      "---  ------                      --------------   -----  \n",
      " 0   agency_name                 250303 non-null  object \n",
      " 1   inspector_name              250303 non-null  object \n",
      " 2   violator_name               250269 non-null  object \n",
      " 3   violation_street_number     250303 non-null  float64\n",
      " 4   violation_street_name       250303 non-null  object \n",
      " 5   violation_zip_code          0 non-null       float64\n",
      " 6   mailing_address_str_number  246701 non-null  float64\n",
      " 7   mailing_address_str_name    250299 non-null  object \n",
      " 8   city                        250303 non-null  object \n",
      " 9   state                       250210 non-null  object \n",
      " 10  zip_code                    250302 non-null  object \n",
      " 11  non_us_str_code             3 non-null       object \n",
      " 12  country                     250303 non-null  object \n",
      " 13  ticket_issued_date          250303 non-null  object \n",
      " 14  hearing_date                237812 non-null  object \n",
      " 15  violation_code              250303 non-null  object \n",
      " 16  violation_description       250303 non-null  object \n",
      " 17  disposition                 250303 non-null  object \n",
      " 18  fine_amount                 250302 non-null  float64\n",
      " 19  admin_fee                   250303 non-null  float64\n",
      " 20  state_fee                   250303 non-null  float64\n",
      " 21  late_fee                    250303 non-null  float64\n",
      " 22  discount_amount             250303 non-null  float64\n",
      " 23  clean_up_cost               250303 non-null  float64\n",
      " 24  judgment_amount             250303 non-null  float64\n",
      " 25  payment_amount              250303 non-null  float64\n",
      " 26  balance_due                 250303 non-null  float64\n",
      " 27  payment_date                41113 non-null   object \n",
      " 28  payment_status              250303 non-null  object \n",
      " 29  collection_status           36897 non-null   object \n",
      " 30  grafitti_status             1 non-null       object \n",
      " 31  compliance_detail           250303 non-null  object \n",
      " 32  compliance                  159878 non-null  float64\n",
      " 33  address                     250303 non-null  object \n",
      " 34  lat                         250303 non-null  float64\n",
      " 35  lon                         250303 non-null  float64\n",
      "dtypes: float64(15), object(21)\n",
      "memory usage: 70.7+ MB\n"
     ]
    }
   ],
   "source": [
    "data.info()"
   ]
  },
  {
   "cell_type": "code",
   "execution_count": 134,
   "id": "cb6040fb",
   "metadata": {},
   "outputs": [
    {
     "data": {
      "text/plain": [
       "state  city           \n",
       "MI     DETROIT            136506\n",
       "       SOUTHFIELD          13395\n",
       "       Detroit             10445\n",
       "       detroit              4165\n",
       "       DEARBORN             3622\n",
       "                           ...  \n",
       "       Farminigton Mi          1\n",
       "       Farminton Hills         1\n",
       "       Fenon                   1\n",
       "       Ferdale                 1\n",
       "WY     EVANSVILLE              1\n",
       "Length: 6141, dtype: int64"
      ]
     },
     "execution_count": 134,
     "metadata": {},
     "output_type": "execute_result"
    }
   ],
   "source": [
    "data[['state','city']].value_counts()"
   ]
  },
  {
   "cell_type": "markdown",
   "id": "e2ef5ea7",
   "metadata": {},
   "source": [
    "Data is not clean. Will need to convert data types and do some conversions on str values "
   ]
  },
  {
   "cell_type": "code",
   "execution_count": 135,
   "id": "25ca0112",
   "metadata": {},
   "outputs": [
    {
     "data": {
      "text/plain": [
       "state  city   \n",
       "MI     DETROIT    151122\n",
       "dtype: int64"
      ]
     },
     "execution_count": 135,
     "metadata": {},
     "output_type": "execute_result"
    }
   ],
   "source": [
    "# converts all 'objects' to upper case \n",
    "data = data.apply(lambda x: x.astype(str).str.upper() if(x.dtype == 'object') else x)\n",
    "\n",
    "convert_dict = {\n",
    "    'agency_name':'category',\n",
    "    'violation_street_name':'category',\n",
    "    'city': 'category',\n",
    "    'state':'category',\n",
    "    'violation_code':'category',\n",
    "    'disposition':'category',\n",
    "}\n",
    "\n",
    "data = data.astype(convert_dict)\n",
    "\n",
    "data = data[(data['city'] == 'DETROIT') & (data['state'] == 'MI')]\n",
    "\n",
    "data[['state','city']].value_counts()"
   ]
  },
  {
   "cell_type": "markdown",
   "id": "4084bc9a",
   "metadata": {},
   "source": [
    "### EDA "
   ]
  },
  {
   "cell_type": "markdown",
   "id": "b6faf9c7",
   "metadata": {},
   "source": [
    "##### General compliance infomation "
   ]
  },
  {
   "cell_type": "code",
   "execution_count": 136,
   "id": "2adc09fb",
   "metadata": {},
   "outputs": [
    {
     "data": {
      "image/png": "[encoded data removed]",
      "text/plain": [
       "<Figure size 432x288 with 1 Axes>"
      ]
     },
     "metadata": {
      "needs_background": "light"
     },
     "output_type": "display_data"
    }
   ],
   "source": [
    "sns.countplot( x= data.compliance, palette = \"Blues\")\n",
    "plt.title(\"Proportion of Compliance\")\n",
    "plt.xlabel('Compliance is Represented by value of 1')\n",
    "plt.show()"
   ]
  },
  {
   "cell_type": "code",
   "execution_count": 137,
   "id": "78eee312",
   "metadata": {},
   "outputs": [
    {
     "name": "stdout",
     "output_type": "stream",
     "text": [
      "Total Fines issued in City of Detriot:  $36,808,536.50\n",
      "Uncollected Fines:  $5,853,014.60\n",
      "Percent of Fines Uncollected: 15.90%\n"
     ]
    }
   ],
   "source": [
    "# $$$$ amounts resulting from blight\n",
    "total_fines = data['judgment_amount'].sum()\n",
    "uncollected_fines = data['payment_amount'].sum()\n",
    "\n",
    "print(f\"Total Fines issued in City of Detriot: \", \"${:,.2f}\".format(total_fines))\n",
    "print(\"Uncollected Fines: \", \"${:,.2f}\".format(uncollected_fines))\n",
    "print(f\"Percent of Fines Uncollected: {uncollected_fines/total_fines * 100:.2f}%\")"
   ]
  },
  {
   "cell_type": "code",
   "execution_count": 138,
   "id": "28c995a5",
   "metadata": {},
   "outputs": [
    {
     "data": {
      "text/plain": [
       "failure of owner to obtain certificate of compliance                                                    62803\n",
       "failure to obtain certificate of registration for rental property                                       25921\n",
       "failure of owner to keep property, its sidewalks, or adjoining public property free from solid waste    15362\n",
       "excessive weeds or plant growth one- or two-family dwelling or commercial building                      11906\n",
       "violation of time limit for approved containers to remain at curbside - early or late                    3728\n",
       "allowing bulk solid waste to lie or accumulate on or about the premises                                  3487\n",
       "inoperable motor vehicle(s) one- or two-family dwelling or commercial building                           3481\n",
       "Name: violation_description, dtype: int64"
      ]
     },
     "execution_count": 138,
     "metadata": {},
     "output_type": "execute_result"
    }
   ],
   "source": [
    "# top reasons for tickets \n",
    "data['violation_description'].str.lower().value_counts().head(7)"
   ]
  },
  {
   "cell_type": "code",
   "execution_count": 139,
   "id": "7a7e37c7",
   "metadata": {},
   "outputs": [
    {
     "name": "stdout",
     "output_type": "stream",
     "text": [
      "BUILDINGS, SAFETY ENGINEERING & ENV DEPARTMENT    97284\n",
      "DEPARTMENT OF PUBLIC WORKS                        41025\n",
      "DETROIT POLICE DEPARTMENT                          7044\n",
      "HEALTH DEPARTMENT                                  5769\n",
      "NEIGHBORHOOD CITY HALLS                               0\n",
      "Name: agency_name, dtype: int64\n",
      "\n",
      " Total tickets issued:  151,122\n"
     ]
    }
   ],
   "source": [
    "# Top agencies issuing tickets\n",
    "print(data['agency_name'].value_counts()) \n",
    "print('\\n Total tickets issued: ', '{:,}'.format(len(data)))"
   ]
  },
  {
   "cell_type": "code",
   "execution_count": 140,
   "id": "69d040a0",
   "metadata": {},
   "outputs": [
    {
     "data": {
      "image/png": "[encoded data removed]",
      "text/plain": [
       "<Figure size 720x504 with 2 Axes>"
      ]
     },
     "metadata": {
      "needs_background": "light"
     },
     "output_type": "display_data"
    }
   ],
   "source": [
    "# checking to see if compliance is geographically dispersed\n",
    "data.plot(kind = 'scatter', x = 'lon', y = 'lat', c = \"compliance\", figsize = (10,7), cmap = plt.get_cmap(\"jet\"))\n",
    "plt.show()"
   ]
  },
  {
   "cell_type": "markdown",
   "id": "83b89d34",
   "metadata": {},
   "source": [
    "#### Final data processing"
   ]
  },
  {
   "cell_type": "code",
   "execution_count": 143,
   "id": "44a507d2",
   "metadata": {},
   "outputs": [],
   "source": [
    "# limiting dataset to simplify models and avoid data leakage\n",
    "modeling_columns = ['violation_street_number', 'agency_name', \n",
    "        'fine_amount', 'late_fee', 'discount_amount', 'judgment_amount', 'lat', 'lon', 'compliance']\n",
    "\n",
    "data = data[modeling_columns]\n",
    "data = data.dropna()\n",
    "\n",
    "#convert categories to integers \n",
    "cat_columns = data.select_dtypes(['category']).columns\n",
    "data[cat_columns] = data[cat_columns].apply(lambda x: x.cat.codes)\n",
    "\n",
    "#scaling \n",
    "scaling = MinMaxScaler(feature_range=(-1,1)).fit(X_train)\n",
    "X_train = scaling.transform(X_train)\n",
    "X_test = scaling.transform(X_test)\n",
    "\n",
    "#split the data into test and training sets\n",
    "train, test = train_test_split(data, random_state = 42)\n",
    "X_train = train.drop(columns = 'compliance')\n",
    "y_train = train['compliance']\n",
    "X_test = test.drop(columns = 'compliance')\n",
    "y_test = test['compliance']"
   ]
  },
  {
   "cell_type": "markdown",
   "id": "a0cffda0",
   "metadata": {},
   "source": [
    "#### Modeling "
   ]
  },
  {
   "cell_type": "code",
   "execution_count": null,
   "id": "df50a2ae",
   "metadata": {},
   "outputs": [],
   "source": [
    "def print_model_scores(clf, data, y_train, X_test, y_test, train = True):\n",
    "    if train:\n",
    "        pred = clf.predict(data)\n",
    "        clf_report = pd.DataFrame(classification_report(y_train, pred, output_dict=True))\n",
    "        print(\"Train Result:\\n================================================\")\n",
    "        print(f\"Accuracy Score: {accuracy_score(y_train, pred) * 100:.2f}%\")\n",
    "        print(\"_______________________________________________\")\n",
    "        print(f\"CLASSIFICATION REPORT:\\n{clf_report}\")\n",
    "        print(\"_______________________________________________\")\n",
    "        print(f\"Confusion Matrix: \\n {confusion_matrix(y_train, pred)}\\n\")\n",
    "\n",
    "    elif train==False:\n",
    "        pred = clf.predict(X_test)\n",
    "        clf_report = pd.DataFrame(classification_report(y_test, pred, output_dict=True))\n",
    "        print(\"Test Result:\\n================================================\")        \n",
    "        print(f\"Accuracy Score: {accuracy_score(y_test, pred) * 100:.2f}%\")\n",
    "        print(\"_______________________________________________\")\n",
    "        print(f\"CLASSIFICATION REPORT:\\n{clf_report}\")\n",
    "        print(\"_______________________________________________\")\n",
    "        print(f\"Confusion Matrix: \\n {confusion_matrix(y_test, pred)}\\n\")"
   ]
  },
  {
   "cell_type": "markdown",
   "id": "cced7063",
   "metadata": {},
   "source": [
    "##### Gradient Boosting Classifier "
   ]
  },
  {
   "cell_type": "code",
   "execution_count": 157,
   "id": "8c178f42",
   "metadata": {},
   "outputs": [
    {
     "name": "stdout",
     "output_type": "stream",
     "text": [
      "Best params: {'learning_rate': 0.1}\n",
      "0.7829188801131208\n",
      "Train Result:\n",
      "================================================\n",
      "Accuracy Score: 93.70%\n",
      "_______________________________________________\n",
      "CLASSIFICATION REPORT:\n",
      "                    0.0          1.0  accuracy     macro avg  weighted avg\n",
      "precision      0.937003     0.934650  0.936981      0.935827      0.936836\n",
      "recall         0.999355     0.120707  0.936981      0.560031      0.936981\n",
      "f1-score       0.967175     0.213801  0.936981      0.590488      0.913694\n",
      "support    66677.000000  5095.000000  0.936981  71772.000000  71772.000000\n",
      "_______________________________________________\n",
      "Confusion Matrix: \n",
      " [[66634    43]\n",
      " [ 4480   615]]\n",
      "\n",
      "Test Result:\n",
      "================================================\n",
      "Accuracy Score: 93.61%\n",
      "_______________________________________________\n",
      "CLASSIFICATION REPORT:\n",
      "                    0.0          1.0  accuracy     macro avg  weighted avg\n",
      "precision      0.936283     0.921488  0.936134      0.928886      0.935212\n",
      "recall         0.999144     0.128753  0.936134      0.563948      0.936134\n",
      "f1-score       0.966693     0.225937  0.936134      0.596315      0.913067\n",
      "support    22193.000000  1732.000000  0.936134  23925.000000  23925.000000\n",
      "_______________________________________________\n",
      "Confusion Matrix: \n",
      " [[22174    19]\n",
      " [ 1509   223]]\n",
      "\n"
     ]
    },
    {
     "data": {
      "image/png": "[encoded data removed]",
      "text/plain": [
       "<Figure size 576x576 with 1 Axes>"
      ]
     },
     "metadata": {
      "needs_background": "light"
     },
     "output_type": "display_data"
    }
   ],
   "source": [
    "param_grid = {'learning_rate': [0.01, 0.1, 1]}\n",
    "\n",
    "clf = GradientBoostingClassifier(random_state = 42)\n",
    "\n",
    "grid = GridSearchCV(clf, param_grid, scoring = 'roc_auc')\n",
    "grid.fit(X_train, y_train)\n",
    "\n",
    "best_params = grid.best_params_\n",
    "print(f\"Best params: {best_params}\")\n",
    "print(grid.best_score_)\n",
    "\n",
    "clf = GradientBoostingClassifier(**best_params)\n",
    "clf.fit(X_train, y_train)\n",
    "print_model_scores(clf, X_train, y_train, X_test, y_test, train=True)\n",
    "print_model_scores(clf, X_train, y_train, X_test, y_test, train=False)\n",
    "\n",
    "y_score_lr = clf.fit(X_train, y_train).decision_function(X_test)\n",
    "fpr_lr, tpr_lr, _ = roc_curve(y_test, y_score_lr)\n",
    "roc_auc_lr = auc(fpr_lr, tpr_lr)\n",
    "\n",
    "fpr_lr, tpr_lr, _ = roc_curve(y_test, y_score_lr)\n",
    "roc_auc_lr = auc(fpr_lr, tpr_lr)\n",
    "\n",
    "plt.figure(figsize=(8,8))\n",
    "\n",
    "plt.plot(fpr_lr, tpr_lr, label='ROC curve (area = {:0.2f})'.format(roc_auc_lr))\n",
    "plt.xlabel('False Positive Rate', fontsize=16)\n",
    "plt.ylabel('True Positive Rate', fontsize=16)\n",
    "plt.title('ROC curve', fontsize=16)\n",
    "plt.legend(loc='lower right', fontsize=13)\n",
    "plt.plot([0, 1], [0, 1], color='navy', lw=3, linestyle='--')\n",
    "sns.despine(top=True, bottom=True, left=True)"
   ]
  },
  {
   "cell_type": "code",
   "execution_count": 156,
   "id": "a166dc8a",
   "metadata": {},
   "outputs": [
    {
     "name": "stdout",
     "output_type": "stream",
     "text": [
      "Train Result:\n",
      "================================================\n",
      "Accuracy Score: 93.30%\n",
      "_______________________________________________\n",
      "CLASSIFICATION REPORT:\n",
      "                    0.0          1.0  accuracy     macro avg  weighted avg\n",
      "precision      0.933200     0.890411  0.932982      0.911805      0.930162\n",
      "recall         0.999400     0.063788  0.932982      0.531594      0.932982\n",
      "f1-score       0.965166     0.119048  0.932982      0.542107      0.905101\n",
      "support    66677.000000  5095.000000  0.932982  71772.000000  71772.000000\n",
      "_______________________________________________\n",
      "Confusion Matrix: \n",
      " [[66637    40]\n",
      " [ 4770   325]]\n",
      "\n",
      "Test Result:\n",
      "================================================\n",
      "Accuracy Score: 93.27%\n",
      "_______________________________________________\n",
      "CLASSIFICATION REPORT:\n",
      "                    0.0          1.0  accuracy     macro avg  weighted avg\n",
      "precision      0.932834     0.912162  0.932706      0.922498      0.931338\n",
      "recall         0.999414     0.077945  0.932706      0.538679      0.932706\n",
      "f1-score       0.964977     0.143617  0.932706      0.554297      0.905517\n",
      "support    22193.000000  1732.000000  0.932706  23925.000000  23925.000000\n",
      "_______________________________________________\n",
      "Confusion Matrix: \n",
      " [[22180    13]\n",
      " [ 1597   135]]\n",
      "\n"
     ]
    },
    {
     "data": {
      "image/png": "[encoded data removed]",
      "text/plain": [
       "<Figure size 576x576 with 1 Axes>"
      ]
     },
     "metadata": {
      "needs_background": "light"
     },
     "output_type": "display_data"
    }
   ],
   "source": [
    "from sklearn.linear_model import LogisticRegression\n",
    "\n",
    "clf = LogisticRegression().fit(X_train,y_train)\n",
    "\n",
    "print_model_scores(clf, X_train, y_train, X_test, y_test, train=True)\n",
    "print_model_scores(clf, X_train, y_train, X_test, y_test, train=False)\n",
    "\n",
    "y_score_lr = clf.fit(X_train, y_train).decision_function(X_test)\n",
    "fpr_lr, tpr_lr, _ = roc_curve(y_test, y_score_lr)\n",
    "roc_auc_lr = auc(fpr_lr, tpr_lr)\n",
    "\n",
    "fpr_lr, tpr_lr, _ = roc_curve(y_test, y_score_lr)\n",
    "roc_auc_lr = auc(fpr_lr, tpr_lr)\n",
    "\n",
    "plt.figure(figsize=(8,8))\n",
    "\n",
    "plt.plot(fpr_lr, tpr_lr, label='ROC curve (area = {:0.2f})'.format(roc_auc_lr))\n",
    "plt.xlabel('False Positive Rate', fontsize=16)\n",
    "plt.ylabel('True Positive Rate', fontsize=16)\n",
    "plt.title('ROC curve', fontsize=16)\n",
    "plt.legend(loc='lower right', fontsize=13)\n",
    "plt.plot([0, 1], [0, 1], color='navy', lw=3, linestyle='--')\n",
    "sns.despine(top=True, bottom=True, left=True)"
   ]
  },
  {
   "cell_type": "markdown",
   "id": "25d9cd29",
   "metadata": {},
   "source": [
    "Final notes. Both models have great results. Feature engineering can futher improve these models. I think that my next steps would be to develop a feature to represent the days from ticket issue to hearing date. I would also invest further which features have the greatest effect on the model. "
   ]
  }
 ],
 "metadata": {
  "kernelspec": {
   "display_name": "Python 3 (ipykernel)",
   "language": "python",
   "name": "python3"
  },
  "language_info": {
   "codemirror_mode": {
    "name": "ipython",
    "version": 3
   },
   "file_extension": ".py",
   "mimetype": "text/x-python",
   "name": "python",
   "nbconvert_exporter": "python",
   "pygments_lexer": "ipython3",
   "version": "3.9.7"
  }
 },
 "nbformat": 4,
 "nbformat_minor": 5
}
